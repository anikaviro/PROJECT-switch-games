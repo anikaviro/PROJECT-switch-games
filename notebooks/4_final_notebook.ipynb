{
 "cells": [
  {
   "cell_type": "markdown",
   "id": "176b903a",
   "metadata": {},
   "source": [
    "## 4. Final notebook. Nintendo Switch game recommender\n",
    "\n",
    "In this notebook we will prepare the final function which follows this path:\n",
    "1. User enters a game title or keyword (ie. Super Mario)\n",
    "2. We find matches in our game database\n",
    "3. User inputs the correct match \n",
    "4. Switch_recommender gets a recommendation of a similar game belonging to the same cluster"
   ]
  },
  {
   "cell_type": "code",
   "execution_count": 61,
   "id": "4b49de27",
   "metadata": {
    "scrolled": true
   },
   "outputs": [],
   "source": [
    "#load our dataset and import necessary libraries\n",
    "import pandas as pd\n",
    "import numpy as np\n",
    "import random\n",
    "\n",
    "games = pd.read_csv('../data/clean/nintendo_switch_games_clean_clusters.csv')"
   ]
  },
  {
   "cell_type": "code",
   "execution_count": 68,
   "id": "ca020832",
   "metadata": {},
   "outputs": [],
   "source": [
    "def switch_recommender():\n",
    "    ''' This function asks for a keyword or name of a nintendo switch game and return three recommendations based on that one'''\n",
    "    def find_related_games(chosen_row): # this nested function finds 3 games belonging to the same cluster\n",
    "        chosen_title = chosen_row['name']\n",
    "        same_value_rows = games[games['clusters_aggregate_clustering'] == chosen_row['clusters_aggregate_clustering']].sample(n=3)\n",
    "        return chosen_title, same_value_rows\n",
    "\n",
    "    keyword = input(\"Enter a keyword or a game title you like: \").lower() # we use this keyword (transformed to lowercase) to find matches \n",
    "    matches = games[games['name'].str.lower().str.contains(keyword, na=False)].head(5).reset_index(drop=True) \n",
    "\n",
    "    if matches.empty: # in case we dont find any matches, we stop here\n",
    "        print(\"Sorry, but I could not find any matches.\") \n",
    "        return None\n",
    "\n",
    "    print(\"Found matches:\") #if we do, we show the matches here \n",
    "    print(matches['name'])\n",
    "\n",
    "    chosen_match = input(\"Choose one of the matches by entering its index: \") # user defines the game they want and we store it\n",
    "    chosen_index = int(chosen_match)\n",
    "\n",
    "    if chosen_index < 0 or chosen_index >= len(matches): # in case the index provided is not one of the given ones we stop here\n",
    "        print(\"That doesn't seem to be an valid choice :(\")\n",
    "        return None\n",
    "\n",
    "    chosen_row = matches.iloc[chosen_index] # we search chosen row using chosen index\n",
    "    # calling the nested function to find 3 related games\n",
    "    chosen_title, related_rows = find_related_games(chosen_row)\n",
    "\n",
    "    if not related_rows.empty: \n",
    "        print('\\n') #some spacing so it looks less crowded\n",
    "        print(\"Good one! You chose \", chosen_title)\n",
    "        print('\\n') \n",
    "        print(\"If you like \", chosen_title, \"you should try out these:\")\n",
    "        print('\\n')\n",
    "        print(related_rows[['name', 'release_date', 'metascore', 'user_score', 'genre']])\n"
   ]
  },
  {
   "cell_type": "code",
   "execution_count": 69,
   "id": "79e4cf41",
   "metadata": {},
   "outputs": [
    {
     "name": "stdout",
     "output_type": "stream",
     "text": [
      "Enter a keyword or a game title you like: zelda\n",
      "Found matches:\n",
      "0              The Legend of Zelda: Breath of the Wild\n",
      "1            The Legend of Zelda: Tears of the Kingdom\n",
      "2                The Legend of Zelda: Link's Awakening\n",
      "3    Cadence of Hyrule: Crypt of the NecroDancer Fe...\n",
      "4                The Legend of Zelda: Skyward Sword HD\n",
      "Name: name, dtype: object\n",
      "Choose one of the matches by entering its index: 2\n",
      "\n",
      "\n",
      "Good one! You chose  The Legend of Zelda: Link's Awakening\n",
      "\n",
      "\n",
      "If you like  The Legend of Zelda: Link's Awakening you should try out these:\n",
      "\n",
      "\n",
      "                                           name       release_date  metascore   \n",
      "158  AI: The Somnium Files - nirvanA Initiative      June 24, 2022         84  \\\n",
      "343                  Yomawari: Lost in the Dark   October 25, 2022         80   \n",
      "454                                  L.A. Noire  November 14, 2017         79   \n",
      "\n",
      "     user_score             genre  \n",
      "158          81  Action Adventure  \n",
      "343          76  Action Adventure  \n",
      "454          81  Action Adventure  \n"
     ]
    }
   ],
   "source": [
    "switch_recommender()"
   ]
  },
  {
   "cell_type": "code",
   "execution_count": null,
   "id": "67daae9f",
   "metadata": {},
   "outputs": [],
   "source": []
  }
 ],
 "metadata": {
  "kernelspec": {
   "display_name": "final_env",
   "language": "python",
   "name": "final_env"
  },
  "language_info": {
   "codemirror_mode": {
    "name": "ipython",
    "version": 3
   },
   "file_extension": ".py",
   "mimetype": "text/x-python",
   "name": "python",
   "nbconvert_exporter": "python",
   "pygments_lexer": "ipython3",
   "version": "3.9.13"
  }
 },
 "nbformat": 4,
 "nbformat_minor": 5
}
